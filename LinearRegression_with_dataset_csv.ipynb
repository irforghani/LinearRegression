{
  "nbformat": 4,
  "nbformat_minor": 0,
  "metadata": {
    "colab": {
      "name": "LinearRegression_with_dataset_csv.ipynb",
      "version": "0.3.2",
      "provenance": [],
      "collapsed_sections": []
    },
    "kernelspec": {
      "name": "python3",
      "display_name": "Python 3"
    }
  },
  "cells": [
    {
      "metadata": {
        "id": "GSAGm_5RqdMa",
        "colab_type": "text"
      },
      "cell_type": "markdown",
      "source": [
        "![alt text](http://icee2017.kntu.ac.ir:81/files_site/sponsorfn_pic/r_83_161103171713.png)\n",
        "\n",
        "# Linear Regression with SkLearn (CSV Dataset File Input)\n",
        "\n",
        "## Ali Forghani ElahAbadi\n",
        "## Kharazmi University, Tehran, IRAN\n",
        "\n",
        "### Python Language (version 3.6)"
      ]
    },
    {
      "metadata": {
        "id": "d2m8HAS8lFUv",
        "colab_type": "code",
        "colab": {}
      },
      "cell_type": "code",
      "source": [
        "\n",
        "# -*- coding: utf-8 -*-\n",
        "\"\"\"\n",
        "Created on Sat Oct 27 03:14:50 2018\n",
        "\n",
        "@author: Ali Forghani\n",
        "\"\"\"\n",
        "#import library\n",
        "import numpy as np\n",
        "import matplotlib.pyplot as plt\n",
        "from scipy.stats import norm\n",
        "from sklearn.model_selection import train_test_split\n",
        "from sklearn.linear_model import LinearRegression\n",
        "from sklearn import metrics\n",
        "from random import gauss\n",
        "import pandas as pd\n",
        "import random"
      ],
      "execution_count": 0,
      "outputs": []
    },
    {
      "metadata": {
        "id": "_B4tVdAjlnkQ",
        "colab_type": "code",
        "colab": {
          "base_uri": "https://localhost:8080/",
          "height": 133
        },
        "outputId": "668ac2c3-3e64-40d3-94d5-2a697d9fb1dc"
      },
      "cell_type": "code",
      "source": [
        "from google.colab import drive\n",
        "drive.mount('/content/drive/')"
      ],
      "execution_count": 3,
      "outputs": [
        {
          "output_type": "stream",
          "text": [
            "Go to this URL in a browser: https://accounts.google.com/o/oauth2/auth?client_id=947318989803-6bn6qk8qdgf4n4g3pfee6491hc0brc4i.apps.googleusercontent.com&redirect_uri=urn%3Aietf%3Awg%3Aoauth%3A2.0%3Aoob&scope=email%20https%3A%2F%2Fwww.googleapis.com%2Fauth%2Fdocs.test%20https%3A%2F%2Fwww.googleapis.com%2Fauth%2Fdrive%20https%3A%2F%2Fwww.googleapis.com%2Fauth%2Fdrive.photos.readonly%20https%3A%2F%2Fwww.googleapis.com%2Fauth%2Fpeopleapi.readonly&response_type=code\n",
            "\n",
            "Enter your authorization code:\n",
            "··········\n",
            "Mounted at /content/drive/\n"
          ],
          "name": "stdout"
        }
      ]
    },
    {
      "metadata": {
        "id": "DNsqfFEXmPwp",
        "colab_type": "code",
        "colab": {}
      },
      "cell_type": "code",
      "source": [
        "#read  csv file\n",
        "db = pd.read_csv('/content/drive/My Drive/Colab Notebooks/Dataset.csv')"
      ],
      "execution_count": 0,
      "outputs": []
    },
    {
      "metadata": {
        "id": "5QL1dZgam8vw",
        "colab_type": "code",
        "colab": {
          "base_uri": "https://localhost:8080/",
          "height": 2398
        },
        "outputId": "53cff4e4-bf3b-41dd-f5bd-bb74f2db70c5"
      },
      "cell_type": "code",
      "source": [
        "\n",
        "#preprocessing\n",
        "x = db.iloc[:, 0]\n",
        "y = db.iloc[:, 3]\n",
        "\n",
        "print(x)\n",
        "print(y)\n",
        "\n",
        "\n",
        "\n",
        "plt.style.use('seaborn') # pretty matplotlib plots\n",
        "plt.rcParams['figure.figsize'] = (12, 8)\n",
        "\n",
        "\n",
        "x = np.asarray(x)\n",
        "y = np.asarray(y)\n",
        "    \n",
        "x = x.reshape(-1, 1)\n",
        "y = y.reshape(-1, 1)\n",
        "\n"
      ],
      "execution_count": 6,
      "outputs": [
        {
          "output_type": "stream",
          "text": [
            "0     0.000000\n",
            "1     0.040404\n",
            "2     0.080808\n",
            "3     0.121212\n",
            "4     0.161616\n",
            "5     0.202020\n",
            "6     0.242424\n",
            "7     0.282828\n",
            "8     0.323232\n",
            "9     0.363636\n",
            "10    0.404040\n",
            "11    0.444444\n",
            "12    0.484848\n",
            "13    0.525253\n",
            "14    0.565657\n",
            "15    0.606061\n",
            "16    0.646465\n",
            "17    0.686869\n",
            "18    0.727273\n",
            "19    0.767677\n",
            "20    0.808081\n",
            "21    0.848485\n",
            "22    0.888889\n",
            "23    0.929293\n",
            "24    0.969697\n",
            "25    1.010101\n",
            "26    1.050505\n",
            "27    1.090909\n",
            "28    1.131313\n",
            "29    1.171717\n",
            "        ...   \n",
            "70    2.828283\n",
            "71    2.868687\n",
            "72    2.909091\n",
            "73    2.949495\n",
            "74    2.989899\n",
            "75    3.030303\n",
            "76    3.070707\n",
            "77    3.111111\n",
            "78    3.151515\n",
            "79    3.191919\n",
            "80    3.232323\n",
            "81    3.272727\n",
            "82    3.313131\n",
            "83    3.353535\n",
            "84    3.393939\n",
            "85    3.434343\n",
            "86    3.474747\n",
            "87    3.515152\n",
            "88    3.555556\n",
            "89    3.595960\n",
            "90    3.636364\n",
            "91    3.676768\n",
            "92    3.717172\n",
            "93    3.757576\n",
            "94    3.797980\n",
            "95    3.838384\n",
            "96    3.878788\n",
            "97    3.919192\n",
            "98    3.959596\n",
            "99    4.000000\n",
            "Name: x, Length: 100, dtype: float64\n",
            "0     4.387545\n",
            "1     2.679650\n",
            "2     2.968490\n",
            "3     3.254065\n",
            "4     3.536375\n",
            "5     3.815420\n",
            "6     4.091200\n",
            "7     2.363715\n",
            "8     3.832965\n",
            "9     4.098950\n",
            "10    4.361670\n",
            "11    4.621125\n",
            "12    4.877315\n",
            "13    3.130241\n",
            "14    3.379901\n",
            "15    3.626296\n",
            "16    3.869426\n",
            "17    5.309292\n",
            "18    5.545892\n",
            "19    3.779227\n",
            "20    4.009298\n",
            "21    4.236103\n",
            "22    4.459644\n",
            "23    4.679919\n",
            "24    2.896930\n",
            "25    3.110675\n",
            "26    4.521156\n",
            "27    4.728371\n",
            "28    4.932322\n",
            "29    5.133008\n",
            "        ...   \n",
            "70   -0.650023\n",
            "71    0.613534\n",
            "72    0.673826\n",
            "73    0.730853\n",
            "74    0.784615\n",
            "75    0.835112\n",
            "76   -1.117656\n",
            "77   -1.073690\n",
            "78   -1.032988\n",
            "79   -0.995551\n",
            "80    0.238621\n",
            "81    0.269528\n",
            "82   -1.702829\n",
            "83   -1.678452\n",
            "84   -1.657340\n",
            "85   -1.639493\n",
            "86   -1.624911\n",
            "87   -1.613594\n",
            "88   -3.605541\n",
            "89   -2.400754\n",
            "90   -2.399232\n",
            "91   -2.400975\n",
            "92   -2.405982\n",
            "93   -4.414255\n",
            "94   -4.425792\n",
            "95   -4.440595\n",
            "96   -4.458663\n",
            "97   -4.479995\n",
            "98   -3.304593\n",
            "99   -5.332455\n",
            "Name: x.3, Length: 100, dtype: float64\n"
          ],
          "name": "stdout"
        }
      ]
    },
    {
      "metadata": {
        "id": "twZ7w3uQnGa6",
        "colab_type": "code",
        "colab": {
          "base_uri": "https://localhost:8080/",
          "height": 516
        },
        "outputId": "8ee77f2b-2219-4b17-b933-19029ec65207"
      },
      "cell_type": "code",
      "source": [
        "#plot raw data\n",
        "plt.scatter(x, y)\n",
        "plt.xlabel('x')\n",
        "plt.ylabel('y')\n",
        "plt.show()\n",
        "print('-----------------------'+str(x.shape))   \n"
      ],
      "execution_count": 7,
      "outputs": [
        {
          "output_type": "display_data",
          "data": {
            "image/png": "[encoded data removed]",
            "text/plain": [
              "<Figure size 864x576 with 1 Axes>"
            ]
          },
          "metadata": {
            "tags": []
          }
        },
        {
          "output_type": "stream",
          "text": [
            "-----------------------(100, 1)\n"
          ],
          "name": "stdout"
        }
      ]
    },
    {
      "metadata": {
        "id": "xuZLrlNVnL8f",
        "colab_type": "code",
        "colab": {
          "base_uri": "https://localhost:8080/",
          "height": 132
        },
        "outputId": "3f7fc1a9-2985-42bf-f99c-97dd565038f6"
      },
      "cell_type": "code",
      "source": [
        "#split train and test\n",
        "X_train, X_test, y_train, y_test = train_test_split(x, y, test_size = 0.1 , random_state = 0)\n",
        "print (\"*************Trainnin data****************\")\n",
        "print (\"X train shape : \" ,X_train.shape)\n",
        "print (\"y train shape : \" ,y_train.shape)\n",
        "\n",
        "print (\"*************Testing data******************\")\n",
        "print (\"X test shape : \" ,X_test.shape)\n",
        "print (\"y test shape : \" ,y_test.shape)\n"
      ],
      "execution_count": 9,
      "outputs": [
        {
          "output_type": "stream",
          "text": [
            "*************Trainnin data****************\n",
            "X train shape :  (90, 1)\n",
            "y train shape :  (90, 1)\n",
            "*************Testing data******************\n",
            "X test shape :  (10, 1)\n",
            "y test shape :  (10, 1)\n"
          ],
          "name": "stdout"
        }
      ]
    },
    {
      "metadata": {
        "id": "ScLzJxgOnP94",
        "colab_type": "code",
        "colab": {
          "base_uri": "https://localhost:8080/",
          "height": 171
        },
        "outputId": "134f4e53-3263-4f98-feeb-1e1fb13c4b06"
      },
      "cell_type": "code",
      "source": [
        "\n",
        "# Fitting Simple Linear Regression to the Training set\n",
        "regressor = LinearRegression()\n",
        "regressor.fit(X_train, y_train)\n",
        "print(\"Function for the first Graph\") \n",
        "m = regressor.coef_[0]\n",
        "b = regressor.intercept_\n",
        "print(' y = {0} * x + {1}'.format(m, b))\n",
        "\n",
        "for i in range(1, 4):\n",
        "    print('y output with x=' + str(i) + ' : ')\n",
        "    print((m * i) + b)\n"
      ],
      "execution_count": 10,
      "outputs": [
        {
          "output_type": "stream",
          "text": [
            "Function for the first Graph\n",
            " y = [-2.02033881] * x + [5.93687806]\n",
            "y output with x=1 : \n",
            "[3.91653925]\n",
            "y output with x=2 : \n",
            "[1.89620044]\n",
            "y output with x=3 : \n",
            "[-0.12413837]\n"
          ],
          "name": "stdout"
        }
      ]
    },
    {
      "metadata": {
        "id": "fDmbICzbnX3N",
        "colab_type": "code",
        "colab": {
          "base_uri": "https://localhost:8080/",
          "height": 209
        },
        "outputId": "2cfcb99c-5e7d-4cd8-b85d-9b60a91d5970"
      },
      "cell_type": "code",
      "source": [
        "# Predicting the Test set results\n",
        "y_pred = regressor.predict(X_test)\n",
        "print (y_pred)\n"
      ],
      "execution_count": 11,
      "outputs": [
        {
          "output_type": "stream",
          "text": [
            "[[ 3.81450194]\n",
            " [-1.08328912]\n",
            " [ 5.77361836]\n",
            " [ 1.44723626]\n",
            " [-0.18536076]\n",
            " [-1.65469808]\n",
            " [ 4.63080045]\n",
            " [-0.02210106]\n",
            " [ 1.52886611]\n",
            " [-1.81795778]]\n"
          ],
          "name": "stdout"
        }
      ]
    },
    {
      "metadata": {
        "id": "MUxtZ39rncSA",
        "colab_type": "code",
        "colab": {
          "base_uri": "https://localhost:8080/",
          "height": 512
        },
        "outputId": "69da9a90-e684-403b-c61d-3a31bc48088e"
      },
      "cell_type": "code",
      "source": [
        "#Visualising the Training set results\n",
        " \n",
        "plt.scatter(X_train, y_train, color = 'blue', s = 10)\n",
        "plt.plot(X_train, regressor.predict(X_train), color = 'red')\n",
        "\n",
        "plt.title('S')\n",
        "plt.xlabel('X')\n",
        "plt.ylabel('Y')\n",
        "plt.legend(('Regression Line','Train data'),\n",
        "           loc='upper center', shadow=True, frameon=True)\n",
        "plt.show()\n"
      ],
      "execution_count": 12,
      "outputs": [
        {
          "output_type": "display_data",
          "data": {
            "image/png": "[encoded data removed]",
            "text/plain": [
              "<Figure size 864x576 with 1 Axes>"
            ]
          },
          "metadata": {
            "tags": []
          }
        }
      ]
    },
    {
      "metadata": {
        "id": "FrgTati7ng4Y",
        "colab_type": "code",
        "colab": {
          "base_uri": "https://localhost:8080/",
          "height": 512
        },
        "outputId": "131c1474-ae5c-4440-b9f0-47281a35c008"
      },
      "cell_type": "code",
      "source": [
        "# Visualising the Test set results\n",
        "plt.scatter(X_test, y_test, color = 'blue')\n",
        "plt.plot(X_train, regressor.predict(X_train), color = 'red')\n",
        "plt.title('S')\n",
        "plt.xlabel('X')\n",
        "plt.ylabel('Y')\n",
        "plt.legend(('Regression Line','Test data'),\n",
        "           loc='upper center', shadow=True, frameon=True)\n",
        "\n",
        "\n",
        "plt.show()\n"
      ],
      "execution_count": 13,
      "outputs": [
        {
          "output_type": "display_data",
          "data": {
            "image/png": "[encoded data removed]",
            "text/plain": [
              "<Figure size 864x576 with 1 Axes>"
            ]
          },
          "metadata": {
            "tags": []
          }
        }
      ]
    },
    {
      "metadata": {
        "id": "3zxJ3PgYnk0B",
        "colab_type": "code",
        "colab": {
          "base_uri": "https://localhost:8080/",
          "height": 75
        },
        "outputId": "ce09b14e-2d4d-48ae-80e2-3fc4ce658794"
      },
      "cell_type": "code",
      "source": [
        "#calculate errors\n",
        "print('Mean Absolute Error:', metrics.mean_absolute_error(y_test, y_pred))  \n",
        "print('Mean Squared Error:', metrics.mean_squared_error(y_test, y_pred))  \n",
        "print('Root Mean Squared Error:', np.sqrt(metrics.mean_squared_error(y_test, y_pred))) \n"
      ],
      "execution_count": 14,
      "outputs": [
        {
          "output_type": "stream",
          "text": [
            "Mean Absolute Error: 1.4488157582247438\n",
            "Mean Squared Error: 2.85318772330745\n",
            "Root Mean Squared Error: 1.68913815992282\n"
          ],
          "name": "stdout"
        }
      ]
    }
  ]
}